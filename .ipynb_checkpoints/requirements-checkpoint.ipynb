{
 "cells": [
  {
   "cell_type": "code",
   "execution_count": 1,
   "id": "5fa01a8f-a8e7-4cf0-824f-99ae0d9d4f41",
   "metadata": {},
   "outputs": [
    {
     "ename": "SyntaxError",
     "evalue": "invalid syntax (1795463490.py, line 2)",
     "output_type": "error",
     "traceback": [
      "\u001b[1;36m  Cell \u001b[1;32mIn[1], line 2\u001b[1;36m\u001b[0m\n\u001b[1;33m    pip install torch==2.0.1\u001b[0m\n\u001b[1;37m        ^\u001b[0m\n\u001b[1;31mSyntaxError\u001b[0m\u001b[1;31m:\u001b[0m invalid syntax\n"
     ]
    }
   ],
   "source": [
    "conda create -n tinybert python=3.9\n",
    "conda activate tinybert\n",
    "\n",
    "# Minimal stable versions:\n",
    "pip install torch==2.0.1\n",
    "pip install transformers==4.34.0\n",
    "pip install fairscale==0.4.13\n",
    "pip install datasets==2.14.5\n",
    "pip install scikit-learn gensim nltk matplotlib wordcloud jupyter ipywidgets\n",
    "pip install flask"
   ]
  },
  {
   "cell_type": "code",
   "execution_count": null,
   "id": "23936349-6c25-4b09-b367-d29c0b270ff9",
   "metadata": {},
   "outputs": [],
   "source": []
  }
 ],
 "metadata": {
  "kernelspec": {
   "display_name": "Python 3 (ipykernel)",
   "language": "python",
   "name": "python3"
  },
  "language_info": {
   "codemirror_mode": {
    "name": "ipython",
    "version": 3
   },
   "file_extension": ".py",
   "mimetype": "text/x-python",
   "name": "python",
   "nbconvert_exporter": "python",
   "pygments_lexer": "ipython3",
   "version": "3.9.21"
  }
 },
 "nbformat": 4,
 "nbformat_minor": 5
}
